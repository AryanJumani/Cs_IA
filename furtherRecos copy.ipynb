{
 "cells": [
  {
   "cell_type": "code",
   "execution_count": 52,
   "id": "6f81c7e1",
   "metadata": {},
   "outputs": [],
   "source": [
    "import pandas as pd\n",
    "\n",
    "x = pd.read_csv('likedBooks.csv')\n",
    "y = x.set_axis(['count', 'book_id'], axis=1)\n",
    "liked_books = set(y['book_id'])"
   ]
  },
  {
   "cell_type": "code",
   "execution_count": 53,
   "id": "a01eaf12",
   "metadata": {},
   "outputs": [],
   "source": [
    "from tkinter import *\n",
    "import urllib.parse\n",
    "from PIL import Image, ImageTk\n"
   ]
  },
  {
   "cell_type": "code",
   "execution_count": null,
   "id": "51bef318",
   "metadata": {},
   "outputs": [],
   "source": []
  },
  {
   "cell_type": "code",
   "execution_count": 54,
   "id": "c77f557d",
   "metadata": {},
   "outputs": [],
   "source": []
  },
  {
   "cell_type": "code",
   "execution_count": null,
   "id": "83e9f337",
   "metadata": {},
   "outputs": [],
   "source": []
  },
  {
   "cell_type": "code",
   "execution_count": 55,
   "id": "7963621d",
   "metadata": {},
   "outputs": [],
   "source": [
    "import json\n",
    "def parse_fields(line):\n",
    "    data = json.loads(line)\n",
    "    return {\n",
    "        \"user_id\": data[\"user_id\"],\n",
    "        \"book_id\": int(data[\"book_id\"]),\n",
    "        \"is_read\": data[\"is_read\"],\n",
    "        \"rating\": data[\"rating\"]\n",
    "    }"
   ]
  },
  {
   "cell_type": "code",
   "execution_count": null,
   "id": "310c680d",
   "metadata": {},
   "outputs": [],
   "source": []
  },
  {
   "cell_type": "code",
   "execution_count": null,
   "id": "888ab073",
   "metadata": {},
   "outputs": [],
   "source": []
  },
  {
   "cell_type": "code",
   "execution_count": 56,
   "id": "0d354c0f",
   "metadata": {},
   "outputs": [],
   "source": [
    "overlap_users = set()\n",
    "import gzip\n",
    "import urllib\n",
    "l = \"https://drive.google.com/file/d/1z-q7NLRXV2oL1hHYYvTzk-uSzl9dFzU_/view?usp=sharing\"\n",
    "h = urllib.urlopen(l)\n",
    "myfilenew = h.read()\n",
    "\n",
    "with gzip.open(myfilenew, \"r\") as f: #opening the json file\n",
    "    while (True):\n",
    "        line = f.readline() #reading the json file\n",
    "        if not line: #checking if there are any more lines\n",
    "            break\n",
    "        fields = parse_fields(line)\n",
    "        user_id, book_id, is_read, rating = fields.values()\n",
    "\n",
    "        if user_id in overlap_users:\n",
    "            continue\n",
    "        rating = int(rating)\n",
    "        if book_id in liked_books:\n",
    "            overlap_users.add(user_id)"
   ]
  },
  {
   "cell_type": "code",
   "execution_count": 57,
   "id": "48dc6ede",
   "metadata": {},
   "outputs": [],
   "source": [
    "rec_books = []\n",
    "with open(myfilenew, \"r\") as f:\n",
    "    while (True):\n",
    "        line = f.readline()\n",
    "        if not line:\n",
    "            break\n",
    "        fields = parse_fields(line)\n",
    "        user_id, book_id, is_read, rating = fields.values()\n",
    "        if user_id in overlap_users:\n",
    "            rec_books.append([user_id, book_id, rating])\n",
    "            "
   ]
  },
  {
   "cell_type": "code",
   "execution_count": 64,
   "id": "7b8247d5",
   "metadata": {},
   "outputs": [
    {
     "name": "stdout",
     "output_type": "stream",
     "text": [
      "[NbConvertApp] Converting notebook furtherRecos.ipynb to script\n",
      "[NbConvertApp] Writing 2403 bytes to furtherRecos.py\n"
     ]
    }
   ],
   "source": []
  },
  {
   "cell_type": "code",
   "execution_count": 58,
   "id": "8933b41d",
   "metadata": {},
   "outputs": [],
   "source": [
    "import pandas as pd\n",
    "recs = pd.DataFrame(rec_books, columns=[\"user_id\", \"book_id\", \"rating\"]) #converting the recommended books into a dataframe with proper\n",
    "# columns\n",
    "recs[\"book_id\"] = recs[\"book_id\"].astype(str) #converting the book_id into a string for easier comparison"
   ]
  },
  {
   "cell_type": "code",
   "execution_count": 59,
   "id": "a8b2ff38",
   "metadata": {},
   "outputs": [],
   "source": [
    "top_recs = top_recs.to_frame().reset_index() #resetting the index so that the operations on the dataframe start from the first index"
   ]
  },
  {
   "cell_type": "code",
   "execution_count": 60,
   "id": "e703eab9",
   "metadata": {},
   "outputs": [],
   "source": [
    "top_recs.columns = [\"book_id\", \"book_count\"] #looking at the output, the column headings were wrong so I switched them\n",
    "top_recs = top_recs.head(10) #getting the top 10 recommendations\n",
    "k = \"https://drive.google.com/file/d/1e-DSdolmrpunYIGjQVMF7DmZJwjePpzx/view?usp=sharing\"\n",
    "j = urllib.urlopen(link)\n",
    "myfilenewnew = j.read()\n",
    "\n",
    "\n",
    "books = pd.read_json(myfilenewnew) #reading the titles available in the goodreads database"
   ]
  },
  {
   "cell_type": "code",
   "execution_count": 61,
   "id": "766add0c",
   "metadata": {},
   "outputs": [],
   "source": [
    "books[\"book_id\"] = books[\"book_id\"].astype(str)"
   ]
  },
  {
   "cell_type": "code",
   "execution_count": 63,
   "id": "4b49bfbe",
   "metadata": {},
   "outputs": [
    {
     "ename": "AttributeError",
     "evalue": "'DataFrame' object has no attribute 'concat'",
     "output_type": "error",
     "traceback": [
      "\u001b[0;31m---------------------------------------------------------------------------\u001b[0m",
      "\u001b[0;31mAttributeError\u001b[0m                            Traceback (most recent call last)",
      "\u001b[0;32m/var/folders/6r/4z3zl_zx7s31ntc_49hnfjnr0000gn/T/ipykernel_44169/3350774841.py\u001b[0m in \u001b[0;36m<module>\u001b[0;34m\u001b[0m\n\u001b[1;32m      2\u001b[0m \u001b[0;32mfor\u001b[0m \u001b[0mi\u001b[0m \u001b[0;32min\u001b[0m \u001b[0mrange\u001b[0m\u001b[0;34m(\u001b[0m\u001b[0;36m10\u001b[0m\u001b[0;34m)\u001b[0m\u001b[0;34m:\u001b[0m\u001b[0;34m\u001b[0m\u001b[0;34m\u001b[0m\u001b[0m\n\u001b[1;32m      3\u001b[0m     \u001b[0my\u001b[0m \u001b[0;34m=\u001b[0m \u001b[0mbooks\u001b[0m\u001b[0;34m.\u001b[0m\u001b[0mloc\u001b[0m\u001b[0;34m[\u001b[0m\u001b[0mbooks\u001b[0m\u001b[0;34m[\u001b[0m\u001b[0;34m\"book_id\"\u001b[0m\u001b[0;34m]\u001b[0m \u001b[0;34m==\u001b[0m \u001b[0mstr\u001b[0m\u001b[0;34m(\u001b[0m\u001b[0mtop_recs\u001b[0m\u001b[0;34m[\u001b[0m\u001b[0;34m\"book_id\"\u001b[0m\u001b[0;34m]\u001b[0m\u001b[0;34m[\u001b[0m\u001b[0mi\u001b[0m\u001b[0;34m]\u001b[0m\u001b[0;34m)\u001b[0m\u001b[0;34m]\u001b[0m\u001b[0;34m\u001b[0m\u001b[0;34m\u001b[0m\u001b[0m\n\u001b[0;32m----> 4\u001b[0;31m     \u001b[0mall_recs\u001b[0m \u001b[0;34m=\u001b[0m \u001b[0mall_recs\u001b[0m\u001b[0;34m.\u001b[0m\u001b[0mconcat\u001b[0m\u001b[0;34m(\u001b[0m\u001b[0my\u001b[0m\u001b[0;34m)\u001b[0m\u001b[0;34m\u001b[0m\u001b[0;34m\u001b[0m\u001b[0m\n\u001b[0m",
      "\u001b[0;32m~/opt/anaconda3/lib/python3.9/site-packages/pandas/core/generic.py\u001b[0m in \u001b[0;36m__getattr__\u001b[0;34m(self, name)\u001b[0m\n\u001b[1;32m   5485\u001b[0m         ):\n\u001b[1;32m   5486\u001b[0m             \u001b[0;32mreturn\u001b[0m \u001b[0mself\u001b[0m\u001b[0;34m[\u001b[0m\u001b[0mname\u001b[0m\u001b[0;34m]\u001b[0m\u001b[0;34m\u001b[0m\u001b[0;34m\u001b[0m\u001b[0m\n\u001b[0;32m-> 5487\u001b[0;31m         \u001b[0;32mreturn\u001b[0m \u001b[0mobject\u001b[0m\u001b[0;34m.\u001b[0m\u001b[0m__getattribute__\u001b[0m\u001b[0;34m(\u001b[0m\u001b[0mself\u001b[0m\u001b[0;34m,\u001b[0m \u001b[0mname\u001b[0m\u001b[0;34m)\u001b[0m\u001b[0;34m\u001b[0m\u001b[0;34m\u001b[0m\u001b[0m\n\u001b[0m\u001b[1;32m   5488\u001b[0m \u001b[0;34m\u001b[0m\u001b[0m\n\u001b[1;32m   5489\u001b[0m     \u001b[0;32mdef\u001b[0m \u001b[0m__setattr__\u001b[0m\u001b[0;34m(\u001b[0m\u001b[0mself\u001b[0m\u001b[0;34m,\u001b[0m \u001b[0mname\u001b[0m\u001b[0;34m:\u001b[0m \u001b[0mstr\u001b[0m\u001b[0;34m,\u001b[0m \u001b[0mvalue\u001b[0m\u001b[0;34m)\u001b[0m \u001b[0;34m->\u001b[0m \u001b[0;32mNone\u001b[0m\u001b[0;34m:\u001b[0m\u001b[0;34m\u001b[0m\u001b[0;34m\u001b[0m\u001b[0m\n",
      "\u001b[0;31mAttributeError\u001b[0m: 'DataFrame' object has no attribute 'concat'"
     ]
    }
   ],
   "source": [
    "all_recs = pd.DataFrame()\n",
    "for i in range(10):\n",
    "    y = books.loc[books[\"book_id\"] == str(top_recs[\"book_id\"][i])]\n",
    "    all_recs = all_recs.append(y)"
   ]
  },
  {
   "cell_type": "code",
   "execution_count": null,
   "id": "4aafab08",
   "metadata": {},
   "outputs": [],
   "source": []
  },
  {
   "cell_type": "code",
   "execution_count": null,
   "id": "bd2994be",
   "metadata": {},
   "outputs": [],
   "source": []
  }
 ],
 "metadata": {
  "interpreter": {
   "hash": "50fc67e23a3bef0275dc248b786071c1b51462775d2f5bd5bf660b107a4aa567"
  },
  "kernelspec": {
   "display_name": "Python 3 (ipykernel)",
   "language": "python",
   "name": "python3"
  },
  "language_info": {
   "codemirror_mode": {
    "name": "ipython",
    "version": 3
   },
   "file_extension": ".py",
   "mimetype": "text/x-python",
   "name": "python",
   "nbconvert_exporter": "python",
   "pygments_lexer": "ipython3",
   "version": "3.9.7"
  }
 },
 "nbformat": 4,
 "nbformat_minor": 5
}
